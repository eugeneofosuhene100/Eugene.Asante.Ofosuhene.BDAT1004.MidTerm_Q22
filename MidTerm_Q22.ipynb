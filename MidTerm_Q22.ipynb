{
 "cells": [
  {
   "cell_type": "code",
   "execution_count": 2,
   "id": "316d1665-4746-4320-9b8a-64be529a8103",
   "metadata": {},
   "outputs": [
    {
     "name": "stdout",
     "output_type": "stream",
     "text": [
      "+----+\n",
      "| id |\n",
      "+----+\n",
      "|  2 |\n",
      "|  4 |\n",
      "+----+\n",
      "In 2015-01-02, the temperature was higher than the previous day (10 -> 25).\n",
      "In 2015-01-04, the temperature was higher than the previous day (20 -> 30).\n"
     ]
    }
   ],
   "source": [
    "import sqlite3\n",
    "\n",
    "\n",
    "conn = sqlite3.connect(':memory:')  \n",
    "\n",
    "\n",
    "cursor = conn.cursor()\n",
    "\n",
    "\n",
    "cursor.execute('''\n",
    "CREATE TABLE Weather (id INTEGER PRIMARY KEY,recordDate DATE,temperature INTEGER)''')\n",
    "\n",
    "\n",
    "data = [(1, '2015-01-01', 10),(2, '2015-01-02', 25),(3, '2015-01-03', 20),(4, '2015-01-04', 30)\n",
    "]\n",
    "cursor.executemany('INSERT INTO Weather (id, recordDate, temperature) VALUES (?, ?, ?)', data)\n",
    "conn.commit()\n",
    "\n",
    "\n",
    "query = '''\n",
    "SELECT w1.id\n",
    "FROM Weather w1\n",
    "JOIN Weather w2 ON DATE(w1.recordDate, '-1 day') = w2.recordDate\n",
    "WHERE w1.temperature > w2.temperature\n",
    "'''\n",
    "\n",
    "cursor.execute(query)\n",
    "result = cursor.fetchall()\n",
    "\n",
    "\n",
    "print(\"+----+\\n| id |\\n+----+\")\n",
    "for row in result:\n",
    "    print(f\"|  {row[0]} |\")\n",
    "print(\"+----+\")\n",
    "\n",
    "\n",
    "for row in result:\n",
    "    cursor.execute('SELECT recordDate, temperature FROM Weather WHERE id = ?', (row[0],))\n",
    "    current = cursor.fetchone()\n",
    "    cursor.execute('SELECT temperature FROM Weather WHERE recordDate = DATE(?, \"-1 day\")', (current[0],))\n",
    "    previous = cursor.fetchone()\n",
    "    print(f\"In {current[0]}, the temperature was higher than the previous day ({previous[0]} -> {current[1]}).\")\n",
    "\n",
    "\n",
    "conn.close()"
   ]
  },
  {
   "cell_type": "code",
   "execution_count": null,
   "id": "0236ed1c-9f65-4d0f-834c-6c1d8f09e105",
   "metadata": {},
   "outputs": [],
   "source": []
  }
 ],
 "metadata": {
  "kernelspec": {
   "display_name": "Python 3 (ipykernel)",
   "language": "python",
   "name": "python3"
  },
  "language_info": {
   "codemirror_mode": {
    "name": "ipython",
    "version": 3
   },
   "file_extension": ".py",
   "mimetype": "text/x-python",
   "name": "python",
   "nbconvert_exporter": "python",
   "pygments_lexer": "ipython3",
   "version": "3.11.7"
  }
 },
 "nbformat": 4,
 "nbformat_minor": 5
}
